{
 "cells": [
  {
   "cell_type": "markdown",
   "metadata": {},
   "source": [
    "### 1. Set up environment"
   ]
  },
  {
   "cell_type": "code",
   "execution_count": 1,
   "metadata": {},
   "outputs": [
    {
     "name": "stdout",
     "output_type": "stream",
     "text": [
      "rm: cannot remove '/home/adam/cloud/gdrive/fire_project/local_data/fromGEE/testingPython/*.csv': No such file or directory\r\n"
     ]
    }
   ],
   "source": [
    "#optional; these are things I had to do on my laptop\n",
    "%config IPCompleter.use_jedi = False #something I needed to do to get tab completion working\n",
    "!rm /home/adam/cloud/gdrive/fire_project/local_data/fromGEE/*.csv #delete output files from previous run"
   ]
  },
  {
   "cell_type": "code",
   "execution_count": 2,
   "metadata": {},
   "outputs": [],
   "source": [
    "import rasterio as rio\n",
    "import numpy as np \n",
    "import pandas as pd\n",
    "import glob\n",
    "import os\n",
    "import re\n",
    "import multiprocessing as mp\n",
    "import time\n",
    "from multiprocess import Pool"
   ]
  },
  {
   "cell_type": "markdown",
   "metadata": {},
   "source": [
    "**Set path to TIFF files that you want to convert.**"
   ]
  },
  {
   "cell_type": "code",
   "execution_count": 3,
   "metadata": {},
   "outputs": [],
   "source": [
    "path = '/home/adam/cloud/gdrive/fire_project/local_data/fromGEE/'"
   ]
  },
  {
   "cell_type": "code",
   "execution_count": 4,
   "metadata": {},
   "outputs": [
    {
     "name": "stdout",
     "output_type": "stream",
     "text": [
      "[]\n"
     ]
    }
   ],
   "source": [
    "files = glob.glob(path + \"*.tif\")\n",
    "print(files)"
   ]
  },
  {
   "cell_type": "markdown",
   "metadata": {},
   "source": [
    "### 2. Define function to convert a tif to a CSV"
   ]
  },
  {
   "cell_type": "code",
   "execution_count": 5,
   "metadata": {
    "scrolled": false
   },
   "outputs": [],
   "source": [
    "#Define function to convert a tif to CSV\n",
    "def tifToCsv(file):\n",
    "    src= rio.open(file) #open raster\n",
    "    bandNames = src.descriptions #get tuple of band names\n",
    "    array = src.read() # convert raster to array\n",
    "    df = pd.DataFrame() #create empty df\n",
    "    outputName = re.search(pattern = '^(.+?).tif', #get output file name from input file\n",
    "                           string= os.path.basename(file)).group(1)\n",
    "    \n",
    "    #fill df with data by band\n",
    "    for i in range(len(bandNames)):\n",
    "        df[bandNames[i]] = array[i].ravel()\n",
    "    df = df.dropna()\n",
    "    df.index.name='pixelID'\n",
    "    df.to_csv(file +'.csv') #export as a CSV\n",
    "\n"
   ]
  },
  {
   "cell_type": "markdown",
   "metadata": {},
   "source": [
    "### 3. Map function over list of files in folder\n",
    "Nick, this is where I think your more advanced methods would work better..."
   ]
  },
  {
   "cell_type": "code",
   "execution_count": 6,
   "metadata": {},
   "outputs": [
    {
     "name": "stdout",
     "output_type": "stream",
     "text": [
      "0.029274702072143555\n"
     ]
    }
   ],
   "source": [
    "start = time.time()\n",
    "\n",
    "p = Pool(mp.cpu_count()) #initialize the pool function? \n",
    "list(p.map(tifToCsv, files)) #map function over list of files\n",
    "p.close()\n",
    "\n",
    "end = time.time()\n",
    "print(end - start)"
   ]
  },
  {
   "cell_type": "code",
   "execution_count": null,
   "metadata": {},
   "outputs": [],
   "source": []
  }
 ],
 "metadata": {
  "kernelspec": {
   "display_name": "base",
   "language": "python",
   "name": "base"
  },
  "language_info": {
   "codemirror_mode": {
    "name": "ipython",
    "version": 3
   },
   "file_extension": ".py",
   "mimetype": "text/x-python",
   "name": "python",
   "nbconvert_exporter": "python",
   "pygments_lexer": "ipython3",
   "version": "3.8.2"
  }
 },
 "nbformat": 4,
 "nbformat_minor": 2
}
